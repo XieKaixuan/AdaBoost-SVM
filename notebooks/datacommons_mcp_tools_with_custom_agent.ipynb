{
  "cells": [
    {
      "cell_type": "markdown",
      "metadata": {
        "id": "view-in-github",
        "colab_type": "text"
      },
      "source": [
        "<a href=\"https://colab.research.google.com/github/XieKaixuan/AdaBoost-SVM/blob/master/notebooks/datacommons_mcp_tools_with_custom_agent.ipynb\" target=\"_parent\"><img src=\"https://colab.research.google.com/assets/colab-badge.svg\" alt=\"Open In Colab\"/></a>"
      ]
    },
    {
      "cell_type": "markdown",
      "metadata": {
        "id": "bqxRn4ZWF6P"
      },
      "source": [
        "Copyright 2025 Google LLC. SPDX-License-Identifier: Apache-2.0\n",
        "\n",
        "---\n",
        "# ✨ Explore Data Commons MCP Tools with a Custom Agent\n",
        "This notebook demonstrates how to build and run an agent using Google's [Agent Development Kit (ADK)](https://google.github.io/adk-docs/). The agent you'll build communicates over HTTP with a separate process running the [Data Commons MCP tools](https://pypi.org/project/datacommons-mcp/).\n",
        "\n",
        "### ⚠️ Important notes\n",
        "* **Alternative implementation:** For an example of an agent using the ADK's native web framework with `stdio`, see the [Data Commons MCP sample agents](https://github.com/datacommonsorg/agent-toolkit/blob/main/docs/user_guide.md#use-the-sample-agent).\n",
        "\n",
        "* **Resource limits:** This Colab environment has resource constraints and is best suited for simple queries. For more data-intensive tasks, please use the [Gemini CLI](https://github.com/datacommonsorg/agent-toolkit/blob/main/docs/quickstart.md) or another agent framework.\n",
        "\n",
        "\n",
        "\n",
        "\n"
      ]
    },
    {
      "cell_type": "markdown",
      "metadata": {
        "id": "kRpGKnsHVR7X"
      },
      "source": [
        "---\n",
        "\n",
        "\n",
        "\n",
        "## Create your ADK agent\n",
        "\n",
        "#### **Step 0**: Make a copy of this notebook:\n",
        "* Go to **File** > **Save a copy in Drive**.\n",
        "\n",
        "\n",
        "#### **Step 1**: Add your Data Commons and Gemini API keys to the notebook's secrets:\n",
        "\n",
        "1. Open the **Secrets** panel by clicking the key icon (![key.png](data:image/png;base64,iVBORw0KGgoAAAANSUhEUgAAABgAAAAYCAYAAADgdz34AAABXUlEQVR4AeyTO1LDQBBELUUiI4RAH0IyyLgJ3ABSbkIIN4CTEOKQzEhKyAhFJNFva8dIa4OsKjtx2UXX9Hx2euiy49mOPweBUYP30KIsy27zPO/yXzRpml6PevHHwMAilkZR9BjMJnEcP6vXBPWN0qWAFnT2QiJnZVlGpSB+6uuJZiaLOAFs8UtmLP3Qx3LRT2o+R6Rv37+cN05AVzpbFN21RVFc6Fr3GM6gepfEqXAC9ohr4V3XvRGBcfXm/CebgHeGgYAVtxkHArLjhOWy45wIxJ016l2ZbWFkDlgdbnACsuGeguKCKDvezQrxOTX1XolT4QSqqnrwD/mWNLq28PlM/JjLfP5twkRfWwn0AA0nALGCeKJrFywF4l+q8cfyI0gI5kBYJ18KkCCihXfwPtq2vVFv7fL+3Do+EGBAdj1pmfsVW6zr+oVeCOuHsT+3ItBvboMfBEZd3LlFPwAAAP//+g3U1gAAAAZJREFUAwAlXtYxwRBVewAAAABJRU5ErkJggg==)) in the left menu.\n",
        "1. Click **+ Add new secret** and set the `Name` and `Value` fields for each required API key listed below:\n",
        "   - Data Commons API Key:\n",
        "     - **Name**: `DC_API_KEY`\n",
        "     - **Value**: Your Data Commons API key obtained from https://apikeys.datacommons.org/\n",
        "   - Gemini API Key:\n",
        "     - **Name**: `GOOGLE_API_KEY` or `GEMINI_API_KEY`\n",
        "     - **Value**: A Google Gemini-enabled API key obtained from https://aistudio.google.com/apikey\n",
        "1. Enable **Notebook access** for both."
      ]
    },
    {
      "cell_type": "code",
      "execution_count": 22,
      "metadata": {
        "id": "wRWfGVZ2TBM5",
        "colab": {
          "base_uri": "https://localhost:8080/"
        },
        "outputId": "028f7870-4313-47af-d43b-b90f3431e760"
      },
      "outputs": [
        {
          "output_type": "stream",
          "name": "stdout",
          "text": [
            "✅ API keys successfully loaded and set.\n"
          ]
        }
      ],
      "source": [
        "# @title #### **Step 2.** Import required libraries and initialize secrets. {\"display-mode\":\"form\"}\n",
        "# @markdown 👉 Run this cell\n",
        "\n",
        "!pip uninstall -q -y google-genai google-adk\n",
        "!pip install -q google-genai==1.36.0 google-adk==1.14.1\n",
        "\n",
        "import logging\n",
        "import os\n",
        "import warnings\n",
        "from google.colab import userdata\n",
        "\n",
        "\n",
        "logger = logging.getLogger()\n",
        "logger.setLevel(logging.ERROR)\n",
        "\n",
        "warnings.filterwarnings(\n",
        "    \"ignore\", category=UserWarning, module=\"google.adk.tools.mcp_tool\"\n",
        ")\n",
        "\n",
        "GOOGLE_API_KEY=\"\"\n",
        "DC_API_KEY=\"\"\n",
        "\n",
        "# Get and validate DC_API_KEY\n",
        "try:\n",
        "    DC_API_KEY = userdata.get(\"DC_API_KEY\")\n",
        "except userdata.SecretNotFoundError:\n",
        "    raise ValueError(\n",
        "        \"`DC_API_KEY` not found in Colab secrets. \"\n",
        "        \"Please follow the instructions in 'Step 1' to add the secret.\"\n",
        "    ) from None\n",
        "os.environ[\"DC_API_KEY\"] = DC_API_KEY\n",
        "\n",
        "# Get and validate the Google/Gemini API key\n",
        "try:\n",
        "    GOOGLE_API_KEY = userdata.get(\"GOOGLE_API_KEY\")\n",
        "except userdata.SecretNotFoundError:\n",
        "    try:\n",
        "        GOOGLE_API_KEY = userdata.get(\"GEMINI_API_KEY\")\n",
        "    except userdata.SecretNotFoundError:\n",
        "        raise ValueError(\n",
        "            \"Could not find `GOOGLE_API_KEY` or `GEMINI_API_KEY` in Colab secrets. \"\n",
        "            \"Please follow the instructions in 'Step 1' to set one of these secrets.\"\n",
        "        ) from None\n",
        "\n",
        "os.environ[\"GOOGLE_API_KEY\"] = GOOGLE_API_KEY\n",
        "\n",
        "print(\"✅ API keys successfully loaded and set.\")"
      ]
    },
    {
      "cell_type": "code",
      "execution_count": 23,
      "metadata": {
        "id": "xhMFEBHk95pT",
        "outputId": "ed7ee146-a274-4e2d-eb56-58930529f8a9",
        "colab": {
          "base_uri": "https://localhost:8080/"
        }
      },
      "outputs": [
        {
          "output_type": "stream",
          "name": "stdout",
          "text": [
            "✅ MCP Server is up and responding.\n"
          ]
        }
      ],
      "source": [
        "# @title #### **Step 3.** Start the Data Commons MCP server in a subprocess. {\"display-mode\":\"form\"}\n",
        "# @markdown 👉  Run this cell\n",
        "\n",
        "import asyncio\n",
        "import subprocess\n",
        "import sys\n",
        "import time\n",
        "\n",
        "import aiohttp\n",
        "\n",
        "MCP_PORT = 3000\n",
        "\n",
        "\n",
        "async def wait_for_server_ready(\n",
        "    url: str, process: subprocess.Popen, timeout_sec: int = 15\n",
        "):\n",
        "    \"\"\"\n",
        "    Actively polls the server's HTTP endpoint AND checks that the subprocess\n",
        "    is still running. Replaces the unreliable 'asyncio.sleep()'.\n",
        "    \"\"\"\n",
        "    logger.info(f\"Waiting for server to launch at {url}...\")\n",
        "    start_time = time.time()\n",
        "\n",
        "    async with aiohttp.ClientSession() as session:\n",
        "        while True:\n",
        "            # 1. First, check if the subprocess crashed or exited\n",
        "            return_code = process.poll()\n",
        "            if return_code is not None:\n",
        "                # The process terminated. This is a hard failure.\n",
        "                # Logs (if any) will have already printed to the notebook output.\n",
        "                logger.error(\n",
        "                    f\"Server process failed to start (exit code {return_code}). See notebook output for server logs.\"\n",
        "                )\n",
        "                raise ChildProcessError(\n",
        "                    f\"MCP server process terminated unexpectedly (exit code {return_code}). See notebook output for server logs.\"\n",
        "                )\n",
        "\n",
        "            # 2. If it's running, try to connect via HTTP\n",
        "            try:\n",
        "                # We just need *any* response. Even a 404 (Not Found) or 405 (Method Not Allowed)\n",
        "                # proves the server is up and responding to HTTP requests.\n",
        "                # aiohttp.ClientConnectorError is the \"Connection Refused\" we expect to see while it's starting.\n",
        "                async with session.get(url):\n",
        "                    print(\"✅ MCP Server is up and responding.\")\n",
        "                    return  # Success!\n",
        "\n",
        "            except aiohttp.ClientConnectorError:\n",
        "                # This is expected. Server is not ready yet. Keep waiting.\n",
        "                pass\n",
        "\n",
        "            except Exception as e:\n",
        "                # Any other exception might be a problem, log it.\n",
        "                logger.warning(f\"Health check received unexpected error: {e}\")\n",
        "\n",
        "            # 3. Check if we've run out of time\n",
        "            if time.time() - start_time > timeout_sec:\n",
        "                logger.error(\n",
        "                    f\"Timeout: Server did not respond within {timeout_sec} seconds.\"\n",
        "                )\n",
        "                # Kill the hung process\n",
        "                process.kill()\n",
        "                # Logs (if any) will have already printed to the notebook output.\n",
        "                logger.error(\"Server logs (if any) should be visible above.\")\n",
        "                raise TimeoutError(\n",
        "                    f\"MCP Server failed to start at {url} within {timeout_sec}s.\"\n",
        "                )\n",
        "\n",
        "            # 4. Wait a moment before the next poll\n",
        "            await asyncio.sleep(0.5)  # Poll every 500ms\n",
        "\n",
        "\n",
        "#\n",
        "# --- Install uv in subprocess env ---\n",
        "#\n",
        "logger.info(\"Installing 'uv' package...\")\n",
        "install_process = subprocess.run(\n",
        "    [\n",
        "        sys.executable,\n",
        "        \"-m\",\n",
        "        \"pip\",\n",
        "        \"install\",\n",
        "        \"-q\",\n",
        "        \"uv\",\n",
        "    ],  # This is the correct way to run pip\n",
        "    check=False,\n",
        "    capture_output=True,\n",
        "    text=True,\n",
        ")\n",
        "\n",
        "if install_process.returncode != 0:\n",
        "    logger.error(\"Subprocess failed to install 'uv': %s\", install_process.stderr)\n",
        "    raise RuntimeError(\"Could not install uv on subprocess\")\n",
        "else:\n",
        "    logger.info(\"'uv' package successfully installed.\")\n",
        "\n",
        "#\n",
        "# --- Kill any existing process on the MCP port ---\n",
        "#\n",
        "logger.info(f\"Ensuring port {MCP_PORT} is free...\")\n",
        "# Kill any process on the port; we don't need to see the output.\n",
        "subprocess.run(\n",
        "    [\"fuser\", \"-k\", f\"{MCP_PORT}/tcp\"],\n",
        "    check=False,\n",
        "    stdout=subprocess.DEVNULL,\n",
        "    stderr=subprocess.DEVNULL,\n",
        ")\n",
        "\n",
        "#\n",
        "# ---Start MCP Server ---\n",
        "#\n",
        "logger.info(\"Starting MCP server...\")\n",
        "kernel_env = os.environ.copy()\n",
        "mcp_server_process = subprocess.Popen(\n",
        "    [\n",
        "        sys.executable,  # Call Python\n",
        "        \"-m\",\n",
        "        \"uv\",  # Run the 'uv' module (NOT 'uvx' or the install string)\n",
        "        \"tool\",\n",
        "        \"run\",  # The rest of the uv command\n",
        "        \"datacommons-mcp\",\n",
        "        \"serve\",\n",
        "        \"http\",\n",
        "        \"--port\",\n",
        "        str(MCP_PORT),\n",
        "    ],\n",
        "    env=kernel_env,\n",
        "    stdout=None,\n",
        "    stderr=None,\n",
        ")\n",
        "# Give the server a moment to start up, then check that the server is running\n",
        "await asyncio.sleep(2)\n",
        "await wait_for_server_ready(\n",
        "    url=f\"http://localhost:{MCP_PORT}\", process=mcp_server_process\n",
        ")"
      ]
    },
    {
      "cell_type": "markdown",
      "metadata": {
        "id": "6wEPHz4nnR_M"
      },
      "source": [
        "#### **Step 4**. Set up your agent."
      ]
    },
    {
      "cell_type": "code",
      "execution_count": 24,
      "metadata": {
        "id": "eQh8NzI75cK_",
        "outputId": "668dec0e-fc66-49b3-83d3-acb91a4fa189",
        "colab": {
          "base_uri": "https://localhost:8080/"
        }
      },
      "outputs": [
        {
          "output_type": "stream",
          "name": "stdout",
          "text": [
            "✅ Agent model selected.\n"
          ]
        }
      ],
      "source": [
        "# @title ##### **a.** Select a model {\"display-mode\":\"form\"}\n",
        "# @markdown 👉 Select your desired agent model, then **run this cell**.\n",
        "\n",
        "AGENT_MODEL = \"gemini-2.5-pro\"  # @param [\"gemini-2.5-flash\",\"gemini-2.5-pro\",\"gemini-2.5-flash-lite\"] {\"allow-input\":true}\n",
        "\n",
        "print(f\"✅ Agent model selected.\")"
      ]
    },
    {
      "cell_type": "code",
      "execution_count": 25,
      "metadata": {
        "id": "h7-fHaAMXEUl",
        "outputId": "51516445-f4a4-47e7-fab8-242ec2895fbf",
        "colab": {
          "base_uri": "https://localhost:8080/"
        }
      },
      "outputs": [
        {
          "output_type": "stream",
          "name": "stdout",
          "text": [
            "✅ Agent instructions initialized.\n"
          ]
        }
      ],
      "source": [
        "# @title ##### **b.** Define the agent's core instructions (system prompt). {\"display-mode\":\"form\"}\n",
        "# @markdown 👉 Select or write your own prompt to set the agent's permanent rules and personality, then **run this cell**.\n",
        "# @markdown\n",
        "# @markdown > Here are some tips for writing great agent instructions: [Google ADK - Guiding the Agent: Instructions](https://google.github.io/adk-docs/agents/llm-agents/#guiding-the-agent-instructions-instruction).\n",
        "AGENT_INSTRUCTIONS = \"Use the Data Commons MCP tools to respond to user queries. Cite the data source when possible.\" # @param [\"Use the Data Commons MCP tools to respond to user queries. Cite the data source when possible.\",\"You are an agent that compares statistics between multiple locations. Use the Data Commons tools to fetch the data, present the comparison in a markdown table, and always cite the data source.\",\"You are an agent that retrieves time-series data. When a user asks for a statistic over a range of years for a specific place, use the Data Commons tools to find the data, present it as a year-by-year list, and cite the source.\"] {\"allow-input\":true}\n",
        "\n",
        "print(\"✅ Agent instructions initialized.\")"
      ]
    },
    {
      "cell_type": "code",
      "execution_count": 26,
      "metadata": {
        "id": "dTxoP6O-if_O",
        "outputId": "06e4689d-2e85-4056-a6ed-c2ae333ab192",
        "colab": {
          "base_uri": "https://localhost:8080/"
        }
      },
      "outputs": [
        {
          "output_type": "stream",
          "name": "stdout",
          "text": [
            "✅ Agent created with a fresh session history.\n"
          ]
        }
      ],
      "source": [
        "# @title ##### **c.** Create the agent and initialize a session {\"display-mode\":\"form\"}\n",
        "# @markdown 👉 Run this cell\n",
        "# @markdown\n",
        "# @markdown **Note**: You must re-run this cell every time you update the AGENT_INSTRUCTIONS or change the model!\n",
        "\n",
        "from google.adk.agents.llm_agent import LlmAgent\n",
        "from google.adk.runners import Runner\n",
        "from google.adk.sessions import InMemorySessionService\n",
        "from google.adk.tools.mcp_tool.mcp_toolset import (\n",
        "    McpToolset,\n",
        "    StreamableHTTPConnectionParams,\n",
        ")\n",
        "from google.genai import types\n",
        "\n",
        "from dataclasses import dataclass, field\n",
        "\n",
        "from IPython.display import Markdown, clear_output, display\n",
        "\n",
        "#\n",
        "# ---Define the Agent ---\n",
        "# Key Concept: Create the agent w/ system prompt, model, and MCP tools.\n",
        "#\n",
        "\n",
        "datcom_agent = LlmAgent(\n",
        "    name=\"datacommons_agent\",\n",
        "    model=AGENT_MODEL,\n",
        "    instruction=AGENT_INSTRUCTIONS,\n",
        "    tools=[\n",
        "        McpToolset(\n",
        "            connection_params=StreamableHTTPConnectionParams(\n",
        "                url=f\"http://localhost:{MCP_PORT}/mcp\"\n",
        "            )\n",
        "        )\n",
        "    ],\n",
        ")\n",
        "logging.info(f\"Agent '{datcom_agent.name}' created using model '{AGENT_MODEL}'.\")\n",
        "\n",
        "\n",
        "#\n",
        "# -----------------------------------------------------------------------------\n",
        "# The rest of this cell is only required for running the agent in Colab. This\n",
        "# is automatically handled when running with adk web.\n",
        "# ----------------------------------------------------------------------------\n",
        "#\n",
        "\n",
        "#\n",
        "# ---Session Management ---\n",
        "# Key Concept: SessionService stores conversation history & state.\n",
        "# InMemorySessionService is  simple, non-persistent storage for this tutorial.\n",
        "#\n",
        "session_service = InMemorySessionService()\n",
        "\n",
        "# Define constants for identifying the interaction context\n",
        "APP_NAME = \"datacommons_app\"\n",
        "USER_ID = \"user_1\"\n",
        "SESSION_ID = \"session_001\"\n",
        "\n",
        "# Create the specific session where the conversation will happen\n",
        "session = await session_service.create_session(\n",
        "    app_name=APP_NAME,\n",
        "    user_id=USER_ID,\n",
        "    session_id=SESSION_ID,\n",
        ")\n",
        "logging.info(\n",
        "    f\"Session created: App='{APP_NAME}', User='{USER_ID}', Session='{SESSION_ID}'\"\n",
        ")\n",
        "\n",
        "#\n",
        "# ---Runner ---\n",
        "# Key Concept: Runner orchestrates the agent execution loop.\n",
        "#\n",
        "runner = Runner(agent=datcom_agent, app_name=APP_NAME, session_service=session_service)\n",
        "logging.info(f\"Runner created for agent '{runner.agent.name}'.\")\n",
        "\n",
        "#\n",
        "# ---Async Agent Interaction Function ---\n",
        "#\n",
        "\n",
        "\n",
        "@dataclass\n",
        "class AgentTurn:\n",
        "    \"\"\"Holds all information for one turn of conversation.\"\"\"\n",
        "\n",
        "    user_query: str\n",
        "    agent_response: str\n",
        "    tool_calls: list[str] = field(default_factory=list)\n",
        "\n",
        "    def _get_text(self) -> list[str]:\n",
        "        # Build the output as a list of strings\n",
        "        output = [f\"\\n>> 👤 User: {self.user_query}\\n\"]\n",
        "\n",
        "        if self.tool_calls:\n",
        "            output.append(\"🛠️ Tool Calls:\")\n",
        "            for call in self.tool_calls:\n",
        "                output.append(f\" - {call}\")\n",
        "            output.append(\"\")  # Add a newline\n",
        "\n",
        "        return output\n",
        "\n",
        "    def __str__(self) -> str:\n",
        "        \"\"\"This method is called when you use print() on the object.\"\"\"\n",
        "\n",
        "        # Build the output as a list of strings\n",
        "        output = self._get_text()\n",
        "        output.append(f\"<< 🤖 Agent: {self.agent_response}\\n\")\n",
        "\n",
        "        # Join all the parts into a single string\n",
        "        return \"\\n\".join(output)\n",
        "\n",
        "    def print_pretty(self) -> None:\n",
        "        raw_text = self._get_text()\n",
        "        print(\"\\n\".join(raw_text))\n",
        "        print(\"<< 🤖 Agent:\\n\")\n",
        "        display(Markdown(self.agent_response))\n",
        "        print(\"\")\n",
        "\n",
        "\n",
        "def print_logs() -> None:\n",
        "    for log in logs:\n",
        "        log.print_pretty()\n",
        "\n",
        "\n",
        "async def call_agent_async(query: str, runner, user_id, session_id) -> None:\n",
        "    \"\"\"Sends a query to the agent and prints the final response.\"\"\"\n",
        "\n",
        "    if logs:\n",
        "        print(\"Session History:\")\n",
        "        print_logs()\n",
        "        print(\n",
        "            \"---------------------------------------------------------\\n\\nCurrent Query:\"\n",
        "        )\n",
        "\n",
        "    print(f\"\\n>> 👤 User Query: {query}\")\n",
        "    print(\"\\n...waiting for agent's response\\n\")\n",
        "\n",
        "    # Prepare the user's message in ADK format\n",
        "    content = types.Content(role=\"user\", parts=[types.Part(text=query)])\n",
        "\n",
        "    final_response_text = \"Agent did not produce a final response.\"  # Default\n",
        "\n",
        "    # Iterate through events to find the final answer.\n",
        "    tool_calls = []\n",
        "    async for event in runner.run_async(\n",
        "        user_id=user_id, session_id=session_id, new_message=content\n",
        "    ):\n",
        "        # You can uncomment the line below to see *all* events during execution\n",
        "        logger.info(\n",
        "            f\"  [Event] Author: {event.author}, Type: {type(event).__name__}, Final: {event.is_final_response()}, Content: {event.content}\"\n",
        "        )\n",
        "        if event.author == \"datacommons_agent\":\n",
        "            for tool_call in event.get_function_calls():\n",
        "                if not tool_calls:\n",
        "                    print(\"🛠️ Tool Calls:\")\n",
        "\n",
        "                args = \", \".join(\n",
        "                    sorted([f\"{k}={repr(v)}\" for k, v in tool_call.args.items()])\n",
        "                )\n",
        "                tool_call_str = f\"{tool_call.name}({args})\"\n",
        "                print(f\" - {tool_call_str}\")\n",
        "                tool_calls.append(tool_call_str)\n",
        "\n",
        "        # Key Concept: is_final_response() marks the concluding message for the turn.\n",
        "        if event.is_final_response():\n",
        "            if event.content and event.content.parts:\n",
        "                # Assuming text response in the first part\n",
        "                final_response_text = event.content.parts[0].text\n",
        "            elif (\n",
        "                event.actions and event.actions.escalate\n",
        "            ):  # Handle potential errors/escalations\n",
        "                final_response_text = (\n",
        "                    f\"Agent escalated: {event.error_message or 'No specific message.'}\"\n",
        "                )\n",
        "            # Add more checks here if needed (e.g., specific error codes)\n",
        "            break  # Stop processing events once the final response is found\n",
        "\n",
        "    log = AgentTurn(\n",
        "        user_query=query, agent_response=final_response_text, tool_calls=tool_calls\n",
        "    )\n",
        "    clear_output(wait=True)\n",
        "    if logs:\n",
        "        print(\"Session History:\")\n",
        "        print_logs()\n",
        "        print(\n",
        "            \"---------------------------------------------------------\\n\\nCurrent Query:\\n\"\n",
        "        )\n",
        "    log.print_pretty()\n",
        "    logs.append(\n",
        "        AgentTurn(\n",
        "            user_query=query, agent_response=final_response_text, tool_calls=tool_calls\n",
        "        )\n",
        "    )\n",
        "\n",
        "\n",
        "logs = []\n",
        "\n",
        "print(f\"✅ Agent created with a fresh session history.\")"
      ]
    },
    {
      "cell_type": "markdown",
      "metadata": {
        "id": "Irezam8swa8S"
      },
      "source": [
        "\n",
        "\n",
        "---\n",
        "## 🚀 Take your agent for a spin!\n",
        "\n",
        "You're all set! It's time to chat with the agent you just built.\n",
        "\n",
        "#### **👉 How to use this cell:**\n",
        "\n",
        "* **Type your question:** Click into the input box below.\n",
        "\n",
        "* **Run the cell:** Press the ▶ \"play\" button on the left.\n",
        "  * **Pro-tip:** You can also use a keyboard shortcut to run the cell, and your cursor will stay in the box, ready for your next question:\n",
        "    * **Windows:** `Ctrl + Enter`\n",
        "    * **Mac:** `Cmd + Enter`\n",
        "\n",
        "* **Keep chatting:** After you get a response, you can ask a follow-up question. Just type your new question in the same box and run the cell again. The agent will remember what you talked about.\n",
        "\n",
        "#### **Managing your chat history:**\n",
        "\n",
        "* **To keep your conversation going:** Just continue to use **this** cell.\n",
        "\n",
        "* **To restart the agent (and erase its memory):** Re-run the agent setup cell (Step 4c)."
      ]
    },
    {
      "cell_type": "code",
      "execution_count": 32,
      "metadata": {
        "id": "mukcw7tUXDft",
        "outputId": "bbdb3c81-0aee-4ab9-dcea-86bf7703091f",
        "colab": {
          "base_uri": "https://localhost:8080/",
          "height": 1000
        }
      },
      "outputs": [
        {
          "output_type": "stream",
          "name": "stdout",
          "text": [
            "Session History:\n",
            "\n",
            ">> 👤 User: Which states in the US have the highest smoke pollution?\n",
            "\n",
            "🛠️ Tool Calls:\n",
            " - search_indicators(include_topics=False, places=['USA', 'California', 'New York', 'Texas', 'Florida', 'Illinois', 'Washington'], query='smoke pollution')\n",
            " - validate_child_place_types(child_place_types=['State'], parent_place_name='USA')\n",
            " - get_observations(child_place_type='State', date='latest', place_dcid='country/USA', variable_dcid='Mean_PopulationWeighted_Concentration_AirPollutant_SmokePM25')\n",
            "\n",
            "<< 🤖 Agent:\n",
            "\n"
          ]
        },
        {
          "output_type": "display_data",
          "data": {
            "text/plain": [
              "<IPython.core.display.Markdown object>"
            ],
            "text/markdown": "Based on the latest available data from 2020, the states with the highest population-weighted mean concentration of smoke PM2.5 are:\n\n1.  **Oregon**: 30.08\n2.  **Washington**: 20.75\n3.  **Idaho**: 13.80\n4.  **Montana**: 9.46\n5.  **California**: 9.17\n\nThis data is sourced from the Stanford EcoLab."
          },
          "metadata": {}
        },
        {
          "output_type": "stream",
          "name": "stdout",
          "text": [
            "\n",
            "\n",
            ">> 👤 User: the world population by country  \n",
            "\n",
            "<< 🤖 Agent:\n",
            "\n"
          ]
        },
        {
          "output_type": "display_data",
          "data": {
            "text/plain": [
              "<IPython.core.display.Markdown object>"
            ],
            "text/markdown": "Here is the population for each country in the world as of 2024, sorted from most to least populous:\n\n| Country | Population (2024) |\n|---|---|\n| India | 1,450,935,791 |\n| China | 1,408,975,000 |\n| United States of America | 340,110,988 |\n| Indonesia | 283,487,931 |\n| Pakistan | 251,269,164 |\n| Nigeria | 232,679,478 |\n| Brazil | 211,998,573 |\n| Bangladesh | 173,562,364 |\n| Russia | 143,533,851 |\n| Mexico | 130,861,007 |\n| Ethiopia | 132,059,767 |\n| Japan | 123,975,371 |\n| Egypt | 116,538,258 |\n| Philippines | 115,843,670 |\n| Congo [DRC] | 109,276,265 |\n| Vietnam | 100,987,686 |\n| Iran | 91,567,738 |\n| Turkey | 85,518,661 |\n| Germany | 83,510,950 |\n| Thailand | 71,668,011 |\n| United Kingdom | 69,226,000 |\n| Tanzania | 68,560,157 |\n| France | 68,516,699 |\n| South Africa | 64,007,187 |\n| Italy | 58,986,023 |\n| Kenya | 56,432,944 |\n| Myanmar [Burma] | 54,500,091 |\n| Colombia | 52,886,363 |\n| South Korea | 51,751,065 |\n| Uganda | 50,015,092 |\n| Sudan | 50,448,963 |\n| Spain | 48,807,137 |\n| Algeria | 46,814,308 |\n| Argentina | 45,696,159 |\n| Iraq | 46,042,015 |\n| Afghanistan | 42,647,492 |\n| Canada | 41,288,599 |\n| Yemen | 40,583,164 |\n| Morocco | 38,081,173 |\n| Ukraine | 37,860,221 |\n| Angola | 37,885,849 |\n| Poland | 36,554,707 |\n| Uzbekistan | 36,361,859 |\n| Saudi Arabia | 35,300,280 |\n| Malaysia | 35,557,673 |\n| Peru | 34,217,848 |\n| Ghana | 34,427,414 |\n| Mozambique | 34,631,766 |\n| Madagascar | 31,964,956 |\n| Côte d'Ivoire | 31,934,230 |\n| Nepal | 29,651,054 |\n| Cameroon | 29,123,744 |\n| Venezuela | 28,405,543 |\n| Australia | 27,204,809 |\n| Niger | 27,032,412 |\n| North Korea | 26,498,823 |\n| Syria | 24,672,760 |\n| Mali | 24,478,595 |\n| Burkina Faso | 23,548,781 |\n| Sri Lanka | 21,916,000 |\n| Malawi | 21,655,286 |\n| Zambia | 21,314,956 |\n| Kazakhstan | 20,592,571 |\n| Chad | 20,299,123 |\n| Chile | 19,764,771 |\n| Romania | 19,069,340 |\n| Somalia | 19,009,151 |\n| Guatemala | 18,406,359 |\n| Senegal | 18,501,984 |\n| Ecuador | 18,135,478 |\n| Netherlands | 17,994,237 |\n| Cambodia | 17,638,801 |\n| Zimbabwe | 16,634,373 |\n| Guinea | 14,754,785 |\n| Rwanda | 14,256,567 |\n| Benin | 14,462,724 |\n| Burundi | 14,047,786 |\n| Bolivia | 12,413,315 |\n| Tunisia | 12,277,109 |\n| Haiti | 11,772,557 |\n| Belgium | 11,876,844 |\n| South Sudan | 11,943,408 |\n| Jordan | 11,552,876 |\n| Dominican Republic | 11,427,557 |\n| Cuba | 10,979,783 |\n| Czech Republic | 10,882,164 |\n| Sweden | 10,569,709 |\n| Portugal | 10,701,636 |\n| Papua New Guinea | 10,576,502 |\n| Tajikistan | 10,590,927 |\n| Greece | 10,388,805 |\n| Azerbaijan | 10,202,850 |\n| Israel | 9,974,400 |\n| Hungary | 9,562,314 |\n| Togo | 9,515,236 |\n| Belarus | 9,133,712 |\n| Switzerland | 9,034,102 |\n| Sierra Leone | 8,642,022 |\n| Laos | 7,769,819 |\n| Hong Kong | 7,524,100 |\n| Turkmenistan | 7,494,498 |\n| Libya | 7,381,023 |\n| Kyrgyzstan | 7,224,614 |\n| Paraguay | 6,929,153 |\n| Nicaragua | 6,916,140 |\n| Serbia | 6,587,202 |\n| Bulgaria | 6,444,366 |\n| Congo [Republic] | 6,332,961 |\n| El Salvador | 6,338,193 |\n| Singapore | 6,036,860 |\n| Denmark | 5,976,992 |\n| Lebanon | 5,805,962 |\n| Finland | 5,637,214 |\n| Norway | 5,572,272 |\n| Slovakia | 5,422,069 |\n| Ireland | 5,380,257 |\n| New Zealand | 5,338,500 |\n| Central African Republic | 5,330,690 |\n| Palestinian Territories | 5,289,152 |\n| Costa Rica | 5,129,910 |\n| Mauritania | 5,169,395 |\n| Kuwait | 4,973,861 |\n| Panama | 4,515,577 |\n| Croatia | 3,866,300 |\n| Georgia | 3,673,850 |\n| Eritrea | 3,535,603 |\n| Mongolia | 3,524,788 |\n| Uruguay | 3,386,588 |\n| Puerto Rico | 3,203,295 |\n| Bosnia and Herzegovina | 3,164,253 |\n| Armenia | 3,033,500 |\n| Namibia | 3,030,131 |\n| Lithuania | 2,888,055 |\n| Jamaica | 2,839,175 |\n| Qatar | 2,857,822 |\n| Albania | 2,714,617 |\n| Gambia | 2,759,988 |\n| Botswana | 2,521,139 |\n| Gabon | 2,538,952 |\n| Moldova | 2,389,275 |\n| Lesotho | 2,337,423 |\n| Guinea-Bissau | 2,201,352 |\n| Slovenia | 2,126,324 |\n| Latvia | 1,862,441 |\n| Equatorial Guinea | 1,892,516 |\n| Macedonia [FYROM] | 1,792,179 |\n| Bahrain | 1,588,670 |\n| East Timor | 1,400,638 |\n| Trinidad and Tobago | 1,368,333 |\n| Estonia | 1,371,986 |\n| Cyprus | 1,358,282 |\n| Mauritius | 1,259,509 |\n| Eswatini | 1,242,822 |\n| Djibouti | 1,168,722 |\n| Fiji | 928,784 |\n| Comoros | 866,628 |\n| Guyana | 831,087 |\n| Bhutan | 791,524 |\n| Solomon Islands | 819,198 |\n| Luxembourg | 677,717 |\n| Macau | 687,000 |\n| Suriname | 634,431 |\n| Montenegro | 623,831 |\n| Malta | 574,346 |\n| Maldives | 527,799 |\n| Cape Verde | 524,877 |\n| Brunei | 462,721 |\n| Belize | 417,072 |\n| Bahamas | 401,283 |\n| Iceland | 404,610 |\n| Vanuatu | 327,777 |\n| New Caledonia | 292,639 |\n| Barbados | 282,467 |\n| French Polynesia | 281,807 |\n| São Tomé and Príncipe | 235,536 |\n| Samoa | 218,019 |\n| Saint Lucia | 179,744 |\n| Guam | 167,777 |\n| Curaçao | 155,900 |\n| Kiribati | 134,518 |\n| Seychelles | 121,354 |\n| Grenada | 117,207 |\n| Aruba | 107,624 |\n| Federated States of Micronesia | 113,160 |\n| Saint Vincent and the Grenadines | 100,616 |\n| Antigua and Barbuda | 93,772 |\n| Isle of Man | 84,160 |\n| Andorra | 81,938 |\n| Cayman Islands | 74,457 |\n| Dominica | 66,205 |\n| Bermuda | 64,636 |\n| Greenland | 56,836 |\n| Faroe Islands | 54,719 |\n| Saint Kitts and Nevis | 46,843 |\n| American Samoa | 46,765 |\n| Turks and Caicos Islands | 46,535 |\n| Northern Mariana Islands | 44,278 |\n| Sint Maarten | 43,350 |\n| Liechtenstein | 40,197 |\n| British Virgin Islands | 39,471 |\n| Gibraltar | 39,329 |\n| Monaco | 38,631 |\n| Marshall Islands | 37,548 |\n| San Marino | 33,977 |\n| Saint Martin (French part) | 26,129 |\n| Palau | 17,695 |\n| Nauru | 11,947 |\n| Tuvalu | 9,646 |\n\nData from the [World Bank](https://datacatalog.worldbank.org/dataset/world-development-indicators/)."
          },
          "metadata": {}
        },
        {
          "output_type": "stream",
          "name": "stdout",
          "text": [
            "\n",
            "---------------------------------------------------------\n",
            "\n",
            "Current Query:\n",
            "\n",
            "\n",
            ">> 👤 User: 世界上树最多的10个国家，从高到底\n",
            "\n",
            "<< 🤖 Agent:\n",
            "\n"
          ]
        },
        {
          "output_type": "display_data",
          "data": {
            "text/plain": [
              "<IPython.core.display.Markdown object>"
            ],
            "text/markdown": "根据现有数据，无法直接按树木数量进行排名，因为这是一个极难精确统计的指标。但是，我们可以使用“森林面积”作为衡量标准，这通常是评估一个国家森林资源的主要方式。\n\n根据联合国粮食及农业组织（FAO）2020年的数据，以下是世界上森林面积最广的10个国家，从高到低排名：\n\n| 排名 | 国家 | 森林面积 (平方公里) |\n|---|---|---|\n| 1 | 俄罗斯 | 8,153,116 |\n| 2 | 巴西 | 4,966,196 |\n| 3 | 加拿大 | 3,469,281 |\n| 4 | 美国 | 3,097,950 |\n| 5 | 中国 | 2,199,781 |\n| 6 | 澳大利亚 | 1,340,051 |\n| 7 | 刚果民主共和国 | 1,261,643 |\n| 8 | 印度尼西亚 | 921,332 |\n| 9 | 秘鲁 | 723,303 |\n| 10 | 印度 | 721,600 |\n\n*数据来源: [联合国粮食及农业组织 (FAO)](https://www.fao.org/forest-resources-assessment/2020/en)*"
          },
          "metadata": {}
        },
        {
          "output_type": "stream",
          "name": "stdout",
          "text": [
            "\n"
          ]
        }
      ],
      "source": [
        "# @title {\"display-mode\":\"form\"}\n",
        "Input = \"世界上树最多的10个国家，从高到底\"  # @param {\"type\":\"string\", \"placeholder\": \" \"}\n",
        "\n",
        "\n",
        "first_run = not logs\n",
        "\n",
        "if not Input.strip():\n",
        "    print(\"⚠️ Provide input for the agent, then run the cell again.\")\n",
        "else:\n",
        "    await call_agent_async(Input, runner=runner, user_id=USER_ID, session_id=SESSION_ID)\n",
        "\n",
        "if first_run:\n",
        "  print(\"👉 Provide a follow-up or ask a new question using the same 'Input' box above. \")"
      ]
    },
    {
      "cell_type": "markdown",
      "source": [
        "\n",
        "---\n",
        "\n",
        "\n",
        "#### **Here are some ideas to get you started:**\n",
        "\n",
        "* Which countries have the lowest GINI index?\n",
        "\n",
        "* Tell me about the economy in Brazil.\n",
        "\n",
        "* Which states in the US have the highest smoke pollution?\n",
        "\n",
        "* How does life expectancy vary across countries in Africa?\n",
        "\n",
        "---\n",
        "\n",
        " ⚠️ In case of error, click `Runtime` > `Disconnect and delete runtime` in the Menu Bar and re-run the cells.\n",
        "\n",
        "❗ AI applications using the MCP server can make mistakes, so please double-check responses.\n",
        "\n"
      ],
      "metadata": {
        "id": "1Qm2Zx5L_cKs"
      }
    }
  ],
  "metadata": {
    "colab": {
      "provenance": [],
      "include_colab_link": true
    },
    "kernelspec": {
      "display_name": "datacommons-agent-toolkit",
      "language": "python",
      "name": "python3"
    },
    "language_info": {
      "name": "python",
      "version": "3.11.12"
    }
  },
  "nbformat": 4,
  "nbformat_minor": 0
}
